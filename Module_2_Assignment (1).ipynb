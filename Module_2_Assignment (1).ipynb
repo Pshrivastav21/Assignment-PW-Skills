{
  "nbformat": 4,
  "nbformat_minor": 0,
  "metadata": {
    "colab": {
      "provenance": []
    },
    "kernelspec": {
      "name": "python3",
      "display_name": "Python 3"
    },
    "language_info": {
      "name": "python"
    }
  },
  "cells": [
    {
      "cell_type": "code",
      "execution_count": null,
      "metadata": {
        "id": "ioRUCc26kRB6"
      },
      "outputs": [],
      "source": []
    },
    {
      "cell_type": "markdown",
      "source": [
        "Module 2 Assignment\n",
        "\n",
        "1. What is Linux?\n",
        "- Linux is a family of open-source Unix-like operating systems based on the Linux kernel, an operating system kernel first released on September 17, 1991, by Linus Torvalds. Linux is typically packaged in a Linux distribution.\n",
        "\n",
        "  Distributions include the Linux kernel, supporting system software and libraries, and often a large amount of application software to make it a general-purpose operating system. Linux distributions are available for a wide range of computer architectures, and a wide variety of usage contexts, such as desktop computers, servers, supercomputers, mobile devices, and embedded systems.\n",
        "2. What is the difference between Hard Link & Soft Link?\n",
        "- Hard Link:\n",
        "\n",
        "  A hard link is essentially another name for an existing file.\n",
        "It points directly to the inode of the file, which contains the actual data.\n",
        "Deleting the original file does not delete the data; the data is only removed when the last hard link to it is deleted.\n",
        "Hard links can only be created within the same file system.\n",
        "They cannot link to directories.\n",
        "- Soft Link (or Symbolic Link):\n",
        "\n",
        "  A soft link is a pointer to the original file's name, not its inode.\n",
        "It's similar to a shortcut in Windows.\n",
        "Deleting the original file will make the soft link point to a non-existent file, resulting in a broken link.\n",
        "Soft links can span across different file systems.\n",
        "They can link to directories.\n",
        "3. What is a Kernel in Linux?\n",
        "- The kernel is the core of the Linux operating system. It's the lowest level software that interacts directly with the hardware. Think of it as the bridge between the software applications you use and the physical components of your computer (CPU, memory, storage, etc.).\n",
        "\n",
        "  Its main responsibilities include:\n",
        "\n",
        "- Process Management: Scheduling and managing the execution of different programs.\n",
        "- Memory Management: Allocating and managing the system's memory resources.\n",
        "- Device Drivers: Allowing the operating system to interact with hardware devices.\n",
        "- System Calls: Providing an interface for user programs to request services from the kernel.\n",
        "4. How do you create a user account?\n",
        "- You can create a new user account in Linux using the adduser command. This command is a more user-friendly script for adding users compared to the lower-level useradd command.\n",
        "\n",
        "  The basic syntax is: sudo adduser [username]\n",
        "\n",
        "5. What is the ‘grep’ command used for in Linux?\n",
        "- The grep command in Linux is a powerful command-line utility used for searching plain-text data sets for lines that match a regular expression. Its name comes from the ed command g/re/p (globally search for a regular expression and print matching lines).\n",
        "\n",
        "  In simpler terms, grep is used to find lines in a file or input stream that contain a specific pattern of characters. This pattern is often a simple word or phrase, but it can also be a complex regular expression.\n",
        "\n",
        "  Some common uses of grep include:\n",
        "\n",
        "- Searching for specific words or phrases within files.\n",
        "- Filtering output from other commands to find relevant lines.\n",
        "- Counting the number of lines that match a pattern.\n",
        "- Finding lines that don't match a pattern.\n",
        "- Searching across multiple files at once.\n",
        "\n",
        "6. Step1: Create user p1\n",
        "\n",
        "   Step2: He should be part of 3 groups g1,g2,g3.\n",
        "\n",
        "   Step3: whenever he creates a file automatically in the group section of file grp g1 should come.\n",
        "- Create groups: Create the three groups (g1, g2, g3) using the groupadd command.\n",
        "-Create user and add to primary group: Create the user p1 and set their primary group to g1 using the useradd command.\n",
        "-Add user to secondary groups: Add the user p1 to the secondary groups g2 and g3 using the usermod command.\n",
        "-Verify user and group membership: Verify that the user p1 and the groups g1, g2, and g3 have been created and that p1 is a member of all three groups.\n",
        "-Set default group for new files: Configure the user's environment to set the default group for newly created files to g1.\n",
        "-Verify default group setting: Verify that new files created by p1 automatically have g1 as their group.\n",
        "7. Step1: Create directory /tmp/bg as root user and create files inside it.\n",
        "\n",
        "  Step2: “abhi” should be the owner of the directory. He should be able to create files and delete files inside the directory and also he should be able to add content to all files inside the directory\n",
        "- Create directory as root: Create the directory /tmp/bg as the root user.\n",
        "- Create files inside the directory: Create some sample files inside /tmp/bg as the root user.\n",
        "- Change ownership: Change the ownership of the /tmp/bg directory and its contents to the user \"abhi\".\n",
        "- Set permissions: Set the permissions on the /tmp/bg directory to allow \"abhi\" to create and delete files.\n",
        "- Verify ownership and permissions: Verify that \"abhi\" is the owner of the directory and has the necessary permissions.\n",
        "- Verify file operations: Test that \"abhi\" can create, delete, and modify files within the /tmp/bg directory.\n",
        "8. You suspect that a particular process is consuming excessive CPU resources on your Linux server. How would you identify and terminate this process?\n",
        "- To identify processes consuming excessive CPU, you can use commands like top or htop. These provide a dynamic, real-time view of system processes.\n",
        "\n",
        "  Using top: Open a terminal and type top. Processes will be listed, sorted by CPU usage by default. The process at the top of the list is using the most CPU.\n",
        "\n",
        "  Using htop: htop is an interactive process viewer that is often considered more user-friendly than top. You may need to install it (sudo apt-get install htop on Debian/Ubuntu, sudo yum install htop on CentOS/RHEL). Once installed, type htop in the terminal.\n",
        "\n",
        "  Once you've identified the process, you can terminate it using the kill command followed by the Process ID (PID). You can find the PID in the output of top or htop.\n",
        "\n",
        "  Terminating a process: In a new terminal or by exiting top/htop, use the command kill [PID]. For example, if the PID is 12345, you would type kill 12345. This sends a graceful termination signal (SIGTERM).\n",
        "\n",
        "  Force terminating a process: If the process doesn't terminate with the standard kill command, you can force terminate it using the -9 option, which sends a SIGKILL signal: kill -9 [PID]. Use this with caution, as it doesn't allow the process to clean up properly."
      ],
      "metadata": {
        "id": "ZuR4RfqskS9I"
      }
    }
  ]
}