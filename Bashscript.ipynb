{
  "nbformat": 4,
  "nbformat_minor": 0,
  "metadata": {
    "colab": {
      "provenance": []
    },
    "kernelspec": {
      "name": "python3",
      "display_name": "Python 3"
    },
    "language_info": {
      "name": "python"
    }
  },
  "cells": [
    {
      "cell_type": "code",
      "execution_count": null,
      "metadata": {
        "id": "aG_fMP2MyuPu"
      },
      "outputs": [],
      "source": []
    },
    {
      "cell_type": "markdown",
      "source": [
        "Task 1: File Management Script\n",
        "\n",
        "Write a Bash script that:\n",
        "- Creates a directory named \"backup\" in the user's home directory^\n",
        "- Copies all .txt files from the current directory into the \"backup\" directory^\n",
        "- Appends the current date and time to the filenames of the copied files.\n",
        "\n",
        "\n"
      ],
      "metadata": {
        "id": "QE2qk-x9y45b"
      }
    },
    {
      "cell_type": "code",
      "source": [
        "#!/bin/bash\n",
        "\n",
        "# Create a variable to store the current date and time\n",
        "TIMESTAMP=$(date +\"%Y-%m-%d_%H-%M-%S\")\n",
        "\n",
        "# Create the \"backup\" directory in the user's home directory if it doesn't already exist\n",
        "mkdir -p ~/backup\n",
        "\n",
        "# Loop through all .txt files in the current directory\n",
        "for file in *.txt; do\n",
        "    # Copy the file to the \"backup\" directory with the timestamp appended\n",
        "    cp \"$file\" ~/backup/\"${file%.txt}_$TIMESTAMP.txt\"\n",
        "done"
      ],
      "metadata": {
        "id": "LO6t9qd8y8Vx"
      },
      "execution_count": null,
      "outputs": []
    },
    {
      "cell_type": "markdown",
      "source": [],
      "metadata": {
        "id": "4fgAEof1B2YT"
      }
    },
    {
      "cell_type": "markdown",
      "source": [
        "Task 2: System Health Check\n",
        "\n",
        "Create a script that:\n",
        "- Checks the system’s CPU and memory usage^\n",
        "- Reports if the CPU usage is above 80% or if the available memory is below 20%^\n",
        "- Logs the results to a file named system_health.log."
      ],
      "metadata": {
        "id": "2w1Ygya0x3K4"
      }
    },
    {
      "cell_type": "code",
      "source": [
        "#!/bin/bash\n",
        "\n",
        "# Get CPU and memory usage\n",
        "CPU_USAGE=$(top -bn1 | grep \"Cpu(s)\" | sed \"s/.*, *\\([0-9.]*\\)%* id.*/\\1/\" | awk '{print 100 - $1}')\n",
        "FREE_MEMORY=$(free -m | awk 'NR==2{printf \"%.2f\", $NF*100/$2 }') # Percentage of free memory\n",
        "\n",
        "LOG_FILE=\"system_health.log\"\n",
        "ALERT=\"\"\n",
        "\n",
        "# Check CPU usage\n",
        "if (( $(echo \"$CPU_USAGE > 80\" | bc -l) )); then\n",
        "    ALERT+=\"High CPU usage: ${CPU_USAGE}%\\n\"\n",
        "fi\n",
        "\n",
        "# Check available memory\n",
        "if (( $(echo \"$FREE_MEMORY < 20\" | bc -l) )); then\n",
        "    ALERT+=\"Low free memory: ${FREE_MEMORY}%\\n\"\n",
        "fi\n",
        "\n",
        "# Log results\n",
        "echo \"$(date): System Health Check\" >> \"$LOG_FILE\"\n",
        "echo \"CPU Usage: ${CPU_USAGE}%\" >> \"$LOG_FILE\"\n",
        "echo \"Free Memory: ${FREE_MEMORY}%\" >> \"$LOG_FILE\"\n",
        "\n",
        "if [ -n \"$ALERT\" ]; then\n",
        "    echo \"Alerts:\" >> \"$LOG_FILE\"\n",
        "    echo -e \"$ALERT\" >> \"$LOG_FILE\"\n",
        "    echo \"System health issues detected. Check $LOG_FILE for details.\"\n",
        "else\n",
        "    echo \"System health is good.\"\n",
        "fi\n",
        "echo \"\" >> \"$LOG_FILE\" # Add a newline for readability"
      ],
      "metadata": {
        "id": "4xjUTV0Xy_Il"
      },
      "execution_count": null,
      "outputs": []
    },
    {
      "cell_type": "markdown",
      "source": [
        "Task 3: User Account Management\n",
        "\n",
        "Write a script that:\n",
        "- Reads a list of usernames from a file (e.g., user_list.txt)^\n",
        "- Creates a new user for each username^\n",
        "- Generates a random password for each user and saves the username and password to a file named\n",
        "credentials.txt."
      ],
      "metadata": {
        "id": "3cMed34lyTTE"
      }
    },
    {
      "cell_type": "code",
      "source": [
        "# Create a dummy user_list.txt for testing\n",
        "nano user_list.txt\n",
        "user1\n",
        "user2\n",
        "user3\n",
        "\n",
        "echo \"Created dummy user_list.txt\"\n"
      ],
      "metadata": {
        "id": "JCs_WY4G0_Sw"
      },
      "execution_count": null,
      "outputs": []
    },
    {
      "cell_type": "code",
      "source": [
        "#!/bin/bash\n",
        "\n",
        "USER_LIST_FILE=\"user_list.txt\"\n",
        "CREDENTIALS_FILE=\"credentials.txt\"\n",
        "\n",
        "# Clear credentials file or create if it doesn't exist\n",
        "> \"$CREDENTIALS_FILE\"\n",
        "\n",
        "# Check if the user list file exists\n",
        "if [ ! -f \"$USER_LIST_FILE\" ]; then\n",
        "    echo \"Error: User list file '$USER_LIST_FILE' not found.\"\n",
        "    exit 1\n",
        "fi\n",
        "\n",
        "# Read usernames from the file\n",
        "while IFS= read -r username; do\n",
        "    # Skip empty lines\n",
        "    if [ -z \"$username\" ]; then\n",
        "        continue\n",
        "    fi\n",
        "\n",
        "    # Generate a random password\n",
        "    password=$(openssl rand -base64 12)\n",
        "\n",
        "    # Create the user (if they don't exist)\n",
        "    if id \"$username\" &>/dev/null; then\n",
        "        echo \"User '$username' already exists. Skipping creation.\"\n",
        "    else\n",
        "        useradd \"$username\"\n",
        "        echo \"Created user: $username\"\n",
        "    fi\n",
        "\n",
        "    # Set the user's password\n",
        "    echo \"$username:$password\" | chpasswd\n",
        "\n",
        "    # Save credentials to the file\n",
        "    echo \"Username: $username, Password: $password\" >> \"$CREDENTIALS_FILE\"\n",
        "\n",
        "done < \"$USER_LIST_FILE\"\n",
        "\n",
        "echo \"User account management complete. Credentials saved to $CREDENTIALS_FILE\""
      ],
      "metadata": {
        "id": "SQCvgDGN1QVG"
      },
      "execution_count": null,
      "outputs": []
    },
    {
      "cell_type": "markdown",
      "source": [],
      "metadata": {
        "id": "jg44KaAszBC-"
      }
    },
    {
      "cell_type": "markdown",
      "source": [
        "Task 4: Automated Backup\n",
        "\n",
        "Create a script that:\n",
        "- Takes a directory path as input from the user^\n",
        "- Compresses the directory into a .tar.gz file^\n",
        "- Saves the compressed file with a name that includes the current date (e.g., backup_2023-08-20.tar.gz)."
      ],
      "metadata": {
        "id": "lbLC8Y8Sz7Tq"
      }
    },
    {
      "cell_type": "code",
      "source": [
        "#!/bin/bash\n",
        "\n",
        "# Prompt the user for the directory path\n",
        "read -p \"Enter the path of the directory to back up: \" BACKUP_DIR\n",
        "\n",
        "# Validate input - Check if the directory exists\n",
        "if [ ! -d \"$BACKUP_DIR\" ]; then\n",
        "    echo \"Error: Directory '$BACKUP_DIR' not found.\"\n",
        "    exit 1\n",
        "fi\n",
        "\n",
        "# Generate archive name with current date\n",
        "DATE=$(date +\"%Y-%m-%d\")\n",
        "ARCHIVE_NAME=\"backup_${DATE}.tar.gz\"\n",
        "\n",
        "# Compress the directory\n",
        "tar -czf \"$ARCHIVE_NAME\" -C \"$(dirname \"$BACKUP_DIR\")\" \"$(basename \"$BACKUP_DIR\")\"\n",
        "\n",
        "# Confirm backup\n",
        "if [ $? -eq 0 ]; then\n",
        "    echo \"Backup of '$BACKUP_DIR' created successfully as '$ARCHIVE_NAME'\"\n",
        "else\n",
        "    echo \"Error: Backup failed.\"\n",
        "fi"
      ],
      "metadata": {
        "id": "eUjOk5Ff1TPm"
      },
      "execution_count": null,
      "outputs": []
    },
    {
      "cell_type": "markdown",
      "source": [],
      "metadata": {
        "id": "vsAZr-ga0GyU"
      }
    },
    {
      "cell_type": "markdown",
      "source": [
        "Task 5: Simple To-Do List\n",
        "\n",
        "Create a Bash script that:\n",
        "- Implements a simple command-line to-do list^\n",
        "- Allows the user to add tasks, view tasks, and remove tasks^\n",
        "- Saves the tasks to a file (e.g., todo.txt)."
      ],
      "metadata": {
        "id": "dh1dBkNA0gEU"
      }
    },
    {
      "cell_type": "code",
      "source": [
        "#!/bin/bash\n",
        "\n",
        "TODO_FILE=\"todo.txt\"\n",
        "\n",
        "# Initialize todo file if it doesn't exist\n",
        "if [ ! -f \"$TODO_FILE\" ]; then\n",
        "    touch \"$TODO_FILE\"\n",
        "    echo \"Created empty todo list: $TODO_FILE\"\n",
        "fi\n",
        "\n",
        "# Function to add a task\n",
        "add_task() {\n",
        "    read -p \"Enter the task: \" task\n",
        "    echo \"$task\" >> \"$TODO_FILE\"\n",
        "    echo \"Task added.\"\n",
        "}\n",
        "\n",
        "# Function to view tasks\n",
        "view_tasks() {\n",
        "    if [ ! -s \"$TODO_FILE\" ]; then\n",
        "        echo \"Your to-do list is empty.\"\n",
        "    else\n",
        "        echo \"To-Do List:\"\n",
        "        nl -s \". \" \"$TODO_FILE\"\n",
        "    fi\n",
        "}\n",
        "\n",
        "# Function to remove a task\n",
        "remove_task() {\n",
        "    view_tasks\n",
        "    if [ -s \"$TODO_FILE\" ]; then\n",
        "        read -p \"Enter the number of the task to remove: \" task_number\n",
        "        # Check if the input is a number and within the range of tasks\n",
        "        if [[ \"$task_number\" =~ ^[0-9]+$ ]] && [ \"$task_number\" -ge 1 ] && [ \"$task_number\" -le $(wc -l < \"$TODO_FILE\") ]; then\n",
        "            # Use sed to delete the line based on the task number\n",
        "            sed -i \"${task_number}d\" \"$TODO_FILE\"\n",
        "            echo \"Task $task_number removed.\"\n",
        "        else\n",
        "            echo \"Invalid task number.\"\n",
        "        fi\n",
        "    fi\n",
        "}\n",
        "\n",
        "# Main menu loop\n",
        "while true; do\n",
        "    echo \"\"\n",
        "    echo \"Simple To-Do List\"\n",
        "    echo \"1. Add Task\"\n",
        "    echo \"2. View Tasks\"\n",
        "    echo \"3. Remove Task\"\n",
        "    echo \"4. Exit\"\n",
        "    read -p \"Enter your choice: \" choice\n",
        "\n",
        "    case $choice in\n",
        "        1)\n",
        "            add_task\n",
        "            ;;\n",
        "        2)\n",
        "            view_tasks\n",
        "            ;;\n",
        "        3)\n",
        "            remove_task\n",
        "            ;;\n",
        "        4)\n",
        "            echo \"Exiting.\"\n",
        "            exit 0\n",
        "            ;;\n",
        "        *)\n",
        "            echo \"Invalid choice. Please enter a number between 1 and 4.\"\n",
        "            ;;\n",
        "    esac\n",
        "done"
      ],
      "metadata": {
        "id": "8FI-bOLg06LK"
      },
      "execution_count": null,
      "outputs": []
    },
    {
      "cell_type": "markdown",
      "source": [
        "Task 6: Automated Software Installation\n",
        "\n",
        "Write a script that:\n",
        "- Reads a list of software package names from a file (e.g., packages.txt)^\n",
        "- Installs each package using the appropriate package manager (apt, yum, etc.)^\n",
        "- Logs the installation status of each package."
      ],
      "metadata": {
        "id": "sB1wCQ3Z2JiN"
      }
    },
    {
      "cell_type": "code",
      "source": [
        "# Create a dummy packages.txt for testing\n",
        "nano packages.txt\n",
        "nano\n",
        "htop\n",
        "tree\n",
        "echo \"Created dummy packages.txt\""
      ],
      "metadata": {
        "id": "vzG19bRE2QSQ"
      },
      "execution_count": null,
      "outputs": []
    },
    {
      "cell_type": "code",
      "source": [
        "#!/bin/bash\n",
        "\n",
        "PACKAGES_FILE=\"packages.txt\"\n",
        "LOG_FILE=\"installation_status.log\"\n",
        "\n",
        "# Clear log file or create if it doesn't exist\n",
        "> \"$LOG_FILE\"\n",
        "\n",
        "# Detect package manager\n",
        "if command -v apt-get &> /dev/null; then\n",
        "    PKG_MANAGER=\"apt-get\"\n",
        "    INSTALL_CMD=\"install -y\"\n",
        "elif command -v yum &> /dev/null; then\n",
        "    PKG_MANAGER=\"yum\"\n",
        "    INSTALL_CMD=\"install -y\"\n",
        "elif command -v dnf &> /dev/null; then\n",
        "    PKG_MANAGER=\"dnf\"\n",
        "    INSTALL_CMD=\"install -y\"\n",
        "else\n",
        "    echo \"Error: No supported package manager found (apt, yum, dnf).\" | tee -a \"$LOG_FILE\"\n",
        "    exit 1\n",
        "fi\n",
        "\n",
        "echo \"Detected package manager: $PKG_MANAGER\" | tee -a \"$LOG_FILE\"\n",
        "echo \"Reading packages from $PACKAGES_FILE\" | tee -a \"$LOG_FILE\"\n",
        "echo \"---\" | tee -a \"$LOG_FILE\"\n",
        "\n",
        "# Check if the package list file exists\n",
        "if [ ! -f \"$PACKAGES_FILE\" ]; then\n",
        "    echo \"Error: Package list file '$PACKAGES_FILE' not found.\" | tee -a \"$LOG_FILE\"\n",
        "    exit 1\n",
        "fi\n",
        "\n",
        "# Read packages from the file and install\n",
        "while IFS= read -r package; do\n",
        "    # Skip empty lines and comments\n",
        "    if [ -z \"$package\" ] || [[ \"$package\" =~ ^# ]]; then\n",
        "        continue\n",
        "    fi\n",
        "\n",
        "    echo \"Attempting to install: $package\" | tee -a \"$LOG_FILE\"\n",
        "    # Use the detected package manager to install the package\n",
        "    if sudo \"$PKG_MANAGER\" \"$INSTALL_CMD\" \"$package\"; then\n",
        "        echo \"Status: Success\" | tee -a \"$LOG_FILE\"\n",
        "    else\n",
        "        echo \"Status: Failed\" | tee -a \"$LOG_FILE\"\n",
        "    fi\n",
        "    echo \"---\" | tee -a \"$LOG_FILE\"\n",
        "\n",
        "done < \"$PACKAGES_FILE\"\n",
        "\n",
        "echo \"Automated software installation complete. Status logged to $LOG_FILE\""
      ],
      "metadata": {
        "id": "uMGHQ6J92kiV"
      },
      "execution_count": null,
      "outputs": []
    },
    {
      "cell_type": "markdown",
      "source": [
        "Task 7: Text File Processing\n",
        "\n",
        "Create a script that:\n",
        "- Takes a text file as input^\n",
        "- Counts and displays the number of lines, words, and characters in the file^\n",
        "- Finds and displays the longest word in the file."
      ],
      "metadata": {
        "id": "xSUJgf0y2qfP"
      }
    },
    {
      "cell_type": "code",
      "source": [
        "#!/bin/bash\n",
        "\n",
        "# Prompt the user for the file path\n",
        "read -p \"Enter the path of the text file to process: \" TEXT_FILE\n",
        "\n",
        "# Validate input - Check if the file exists\n",
        "if [ ! -f \"$TEXT_FILE\" ]; then\n",
        "    echo \"Error: File '$TEXT_FILE' not found.\"\n",
        "    exit 1\n",
        "fi\n",
        "\n",
        "# Count lines, words, and characters\n",
        "NUM_LINES=$(wc -l < \"$TEXT_FILE\")\n",
        "NUM_WORDS=$(wc -w < \"$TEXT_FILE\")\n",
        "NUM_CHARS=$(wc -m < \"$TEXT_FILE\") # Use -m for character count (handles multi-byte characters)\n",
        "\n",
        "# Find the longest word\n",
        "# This command sequence:\n",
        "# 1. Converts all whitespace to newlines\n",
        "# 2. Removes empty lines\n",
        "# 3. Sorts by length in reverse order\n",
        "# 4. Takes the first line (which is the longest word)\n",
        "# 5. Removes leading/trailing whitespace\n",
        "LONGEST_WORD=$(tr -s '[:space:]' '\\n' < \"$TEXT_FILE\" | sed '/^$/d' | awk '{ print length, $0 }' | sort -rn | head -n 1 | cut -d ' ' -f 2-)\n",
        "\n",
        "# Display results\n",
        "echo \"--- File Analysis ---\"\n",
        "echo \"File: $TEXT_FILE\"\n",
        "echo \"Number of lines: $NUM_LINES\"\n",
        "echo \"Number of words: $NUM_WORDS\"\n",
        "echo \"Number of characters: $NUM_CHARS\"\n",
        "echo \"Longest word: \\\"$LONGEST_WORD\\\"\"\n",
        "echo \"---------------------\""
      ],
      "metadata": {
        "id": "iq1j-FVY2uLw"
      },
      "execution_count": null,
      "outputs": []
    }
  ]
}